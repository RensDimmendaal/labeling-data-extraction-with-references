{
 "cells": [
  {
   "cell_type": "code",
   "execution_count": 3,
   "id": "e6b416f8-7d60-48c1-9a13-62190d87dbf3",
   "metadata": {},
   "outputs": [],
   "source": [
    "from fasthtml_instructor_labeling.app import DataExtraction"
   ]
  },
  {
   "cell_type": "code",
   "execution_count": 4,
   "id": "8d74a030-aca1-4536-82b1-84332b9df3ba",
   "metadata": {},
   "outputs": [],
   "source": [
    "[1,2,3]["
   ]
  }
 ],
 "metadata": {
  "kernelspec": {
   "display_name": "Python 3 (ipykernel)",
   "language": "python",
   "name": "python3"
  },
  "language_info": {
   "codemirror_mode": {
    "name": "ipython",
    "version": 3
   },
   "file_extension": ".py",
   "mimetype": "text/x-python",
   "name": "python",
   "nbconvert_exporter": "python",
   "pygments_lexer": "ipython3",
   "version": "3.12.5"
  }
 },
 "nbformat": 4,
 "nbformat_minor": 5
}
